{
  "nbformat": 4,
  "nbformat_minor": 0,
  "metadata": {
    "colab": {
      "name": "Sentiment_ana.ipynb",
      "provenance": [],
      "authorship_tag": "ABX9TyNcl3nLsNqNNqnFWBK8EAVD",
      "include_colab_link": true
    },
    "kernelspec": {
      "name": "python3",
      "display_name": "Python 3"
    },
    "language_info": {
      "name": "python"
    },
    "accelerator": "GPU",
    "gpuClass": "standard"
  },
  "cells": [
    {
      "cell_type": "markdown",
      "metadata": {
        "id": "view-in-github",
        "colab_type": "text"
      },
      "source": [
        "<a href=\"https://colab.research.google.com/github/Sabina-0219/Sentiment-Analysis-System/blob/main/Sentiment_ana.ipynb\" target=\"_parent\"><img src=\"https://colab.research.google.com/assets/colab-badge.svg\" alt=\"Open In Colab\"/></a>"
      ]
    },
    {
      "cell_type": "code",
      "execution_count": 1,
      "metadata": {
        "colab": {
          "base_uri": "https://localhost:8080/"
        },
        "id": "RN9EPDonEuNT",
        "outputId": "394c0b03-7b32-492f-fdfb-5e082e64216f"
      },
      "outputs": [
        {
          "output_type": "stream",
          "name": "stdout",
          "text": [
            "TensorFlow 1.x selected.\n"
          ]
        }
      ],
      "source": [
        "%tensorflow_version 1.x"
      ]
    },
    {
      "cell_type": "code",
      "source": [
        "import urllib.request\n",
        "import os\n",
        "import tarfile\n",
        "from keras.datasets import imdb\n",
        "from keras.preprocessing import sequence\n",
        "from keras.preprocessing.text import Tokenizer\n",
        "import re\n",
        "from keras.models import Sequential\n",
        "from keras.layers import Embedding\n",
        "from keras.layers import Dense, Activation, Flatten"
      ],
      "metadata": {
        "colab": {
          "base_uri": "https://localhost:8080/"
        },
        "id": "_Z-g7v3QFB0J",
        "outputId": "18d1925e-7bf3-4ece-bf3d-85e079ed6e61"
      },
      "execution_count": 2,
      "outputs": [
        {
          "output_type": "stream",
          "name": "stderr",
          "text": [
            "Using TensorFlow backend.\n"
          ]
        }
      ]
    },
    {
      "cell_type": "code",
      "source": [
        "! wget http://ai.stanford.edu/~amaas/data/sentiment/aclImdb_v1.tar.gz\n",
        "! tar zxf aclImdb_v1.tar.gz"
      ],
      "metadata": {
        "colab": {
          "base_uri": "https://localhost:8080/"
        },
        "id": "W6zZypRsFFHF",
        "outputId": "3f5b64f3-0306-4548-ce8e-e4d920630090"
      },
      "execution_count": 3,
      "outputs": [
        {
          "output_type": "stream",
          "name": "stdout",
          "text": [
            "--2022-07-02 08:45:33--  http://ai.stanford.edu/~amaas/data/sentiment/aclImdb_v1.tar.gz\n",
            "Resolving ai.stanford.edu (ai.stanford.edu)... 171.64.68.10\n",
            "Connecting to ai.stanford.edu (ai.stanford.edu)|171.64.68.10|:80... connected.\n",
            "HTTP request sent, awaiting response... 200 OK\n",
            "Length: 84125825 (80M) [application/x-gzip]\n",
            "Saving to: ‘aclImdb_v1.tar.gz’\n",
            "\n",
            "aclImdb_v1.tar.gz   100%[===================>]  80.23M  60.2MB/s    in 1.3s    \n",
            "\n",
            "2022-07-02 08:45:34 (60.2 MB/s) - ‘aclImdb_v1.tar.gz’ saved [84125825/84125825]\n",
            "\n"
          ]
        }
      ]
    },
    {
      "cell_type": "code",
      "source": [
        "def rm_tags(text):\n",
        "  re_tag = re.compile(r'<[^>]+>')\n",
        "  return re_tag.sub('', text)"
      ],
      "metadata": {
        "id": "HRmH-uwtFH6e"
      },
      "execution_count": 4,
      "outputs": []
    },
    {
      "cell_type": "code",
      "source": [
        "def read_files(filetype):\n",
        "  path = \"/content/aclImdb/\"\n",
        "  file_list = []\n",
        "\n",
        "  positive_path = path + filetype + \"/pos/\"\n",
        "  for f in os.listdir(positive_path):\n",
        "    file_list += [positive_path+f]\n",
        "  \n",
        "  negative_path = path + filetype + \"/neg/\"\n",
        "  for f in os.listdir(negative_path):\n",
        "    file_list += [negative_path+f]\n",
        "  \n",
        "  print(\"read\", filetype, \"files:\", len(file_list))\n",
        "\n",
        "  all_labels = ([1] * 12500 + [0] * 12500)\n",
        "\n",
        "  all_texts = []\n",
        "  for fi in file_list:\n",
        "    with open(fi, encoding = 'utf8') as file_input:\n",
        "      all_texts += [rm_tags(\" \".join(file_input.readlines()))]\n",
        "  return all_labels, all_texts"
      ],
      "metadata": {
        "id": "i20bfzdIFKvO"
      },
      "execution_count": 5,
      "outputs": []
    },
    {
      "cell_type": "code",
      "source": [
        "y_train, train_text = read_files(\"train\")"
      ],
      "metadata": {
        "colab": {
          "base_uri": "https://localhost:8080/"
        },
        "id": "vJ1gYnmBFN4t",
        "outputId": "5d783a60-9e20-4020-9956-b0c6e9755af1"
      },
      "execution_count": 6,
      "outputs": [
        {
          "output_type": "stream",
          "name": "stdout",
          "text": [
            "read train files: 25000\n"
          ]
        }
      ]
    },
    {
      "cell_type": "code",
      "source": [
        "y_test, test_text = read_files(\"test\")"
      ],
      "metadata": {
        "colab": {
          "base_uri": "https://localhost:8080/"
        },
        "id": "Y5VdILSaFQFP",
        "outputId": "0e6713ad-5f5e-4390-e32f-0ea7a179adb5"
      },
      "execution_count": 7,
      "outputs": [
        {
          "output_type": "stream",
          "name": "stdout",
          "text": [
            "read test files: 25000\n"
          ]
        }
      ]
    },
    {
      "cell_type": "code",
      "source": [
        "train_text[0]"
      ],
      "metadata": {
        "colab": {
          "base_uri": "https://localhost:8080/",
          "height": 107
        },
        "id": "nwRoeG48FSRu",
        "outputId": "b7d73217-fffa-4d63-8d2a-062700998961"
      },
      "execution_count": 8,
      "outputs": [
        {
          "output_type": "execute_result",
          "data": {
            "text/plain": [
              "\"I saw this series when I was a kid and loved the detail it went into and never forgot it. I finally purchased the DVD collection and its just how I remembered. This is just how a doco should be, unbiased and factual. The film footage is unbelievable and the interviews are fantastic. The only other series that I have found equal to this is 'Die Deutschen Panzer'.I only wish Hollywood would sit down and watch this series, then they might make some great war movies.Note. Band of Brothers, Saving Private Ryan, Letters from Iwo Jima, Flags of Our Fathers and When Trumpets Fade are some I'd recommend\""
            ],
            "application/vnd.google.colaboratory.intrinsic+json": {
              "type": "string"
            }
          },
          "metadata": {},
          "execution_count": 8
        }
      ]
    },
    {
      "cell_type": "code",
      "source": [
        "y_train[0]"
      ],
      "metadata": {
        "colab": {
          "base_uri": "https://localhost:8080/"
        },
        "id": "a5YJ-lweFY6p",
        "outputId": "b6d41b6b-4267-4fa9-bb3b-0b77c94122e3"
      },
      "execution_count": 9,
      "outputs": [
        {
          "output_type": "execute_result",
          "data": {
            "text/plain": [
              "1"
            ]
          },
          "metadata": {},
          "execution_count": 9
        }
      ]
    },
    {
      "cell_type": "code",
      "source": [
        "train_text[20000]"
      ],
      "metadata": {
        "colab": {
          "base_uri": "https://localhost:8080/",
          "height": 159
        },
        "id": "zj9Z3KKmFaN3",
        "outputId": "66ec9601-f043-4cfc-f9f6-42f4790e5c49"
      },
      "execution_count": 10,
      "outputs": [
        {
          "output_type": "execute_result",
          "data": {
            "text/plain": [
              "'This is one of the most irritating, nonsensical movies I\\'ve ever had the misfortune to sit through. Every time it started to look like it might be getting good, out come more sepia tone flashbacks, followed by paranoid idiocy masquerading as social commentary. The main character, Maddox, is a manipulative, would-be rebel who lives in a mansion seemingly without any parents or responsibility. The supporting cast are all far more likeable and interesting, but are unfortunately never developed. Nor do we ever really understand the John Stanton character supposedly influencing Maddox to commit the acts of rebellion. At one point, I thought \"Aha! Maddox is just nuts and is secretly making up all those communications from escaped mental patient Stanton! Now we\\'re getting somewhere!\" but of course, that ends up to not be the case and the whole movie turns out to be pointless, both from Maddox\\'s perspective and the viewer\\'s. Where\\'s Ferris Bueller when we need him?'"
            ],
            "application/vnd.google.colaboratory.intrinsic+json": {
              "type": "string"
            }
          },
          "metadata": {},
          "execution_count": 10
        }
      ]
    },
    {
      "cell_type": "code",
      "source": [
        "y_train[20000]"
      ],
      "metadata": {
        "colab": {
          "base_uri": "https://localhost:8080/"
        },
        "id": "Z7hMa5P7Fbv-",
        "outputId": "0aef2c11-39f6-4b2b-cb71-33a57c2bf69c"
      },
      "execution_count": 11,
      "outputs": [
        {
          "output_type": "execute_result",
          "data": {
            "text/plain": [
              "0"
            ]
          },
          "metadata": {},
          "execution_count": 11
        }
      ]
    }
  ]
}