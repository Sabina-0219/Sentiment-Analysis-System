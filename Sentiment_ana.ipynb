{
  "nbformat": 4,
  "nbformat_minor": 0,
  "metadata": {
    "colab": {
      "name": "Sentiment_ana.ipynb",
      "provenance": [],
      "authorship_tag": "ABX9TyOiX28ax4hluRMZfRPUTeUf",
      "include_colab_link": true
    },
    "kernelspec": {
      "name": "python3",
      "display_name": "Python 3"
    },
    "language_info": {
      "name": "python"
    },
    "accelerator": "GPU",
    "gpuClass": "standard"
  },
  "cells": [
    {
      "cell_type": "markdown",
      "metadata": {
        "id": "view-in-github",
        "colab_type": "text"
      },
      "source": [
        "<a href=\"https://colab.research.google.com/github/Sabina-0219/Sentiment-Analysis-System/blob/main/Sentiment_ana.ipynb\" target=\"_parent\"><img src=\"https://colab.research.google.com/assets/colab-badge.svg\" alt=\"Open In Colab\"/></a>"
      ]
    },
    {
      "cell_type": "code",
      "execution_count": 1,
      "metadata": {
        "colab": {
          "base_uri": "https://localhost:8080/"
        },
        "id": "RN9EPDonEuNT",
        "outputId": "394c0b03-7b32-492f-fdfb-5e082e64216f"
      },
      "outputs": [
        {
          "output_type": "stream",
          "name": "stdout",
          "text": [
            "TensorFlow 1.x selected.\n"
          ]
        }
      ],
      "source": [
        "%tensorflow_version 1.x"
      ]
    },
    {
      "cell_type": "code",
      "source": [
        "import urllib.request\n",
        "import os\n",
        "import tarfile\n",
        "from keras.datasets import imdb\n",
        "from keras.preprocessing import sequence\n",
        "from keras.preprocessing.text import Tokenizer\n",
        "import re\n",
        "from keras.models import Sequential\n",
        "from keras.layers import Embedding\n",
        "from keras.layers import Dense, Activation, Flatten"
      ],
      "metadata": {
        "colab": {
          "base_uri": "https://localhost:8080/"
        },
        "id": "_Z-g7v3QFB0J",
        "outputId": "18d1925e-7bf3-4ece-bf3d-85e079ed6e61"
      },
      "execution_count": 2,
      "outputs": [
        {
          "output_type": "stream",
          "name": "stderr",
          "text": [
            "Using TensorFlow backend.\n"
          ]
        }
      ]
    },
    {
      "cell_type": "code",
      "source": [
        "! wget http://ai.stanford.edu/~amaas/data/sentiment/aclImdb_v1.tar.gz\n",
        "! tar zxf aclImdb_v1.tar.gz"
      ],
      "metadata": {
        "colab": {
          "base_uri": "https://localhost:8080/"
        },
        "id": "W6zZypRsFFHF",
        "outputId": "3f5b64f3-0306-4548-ce8e-e4d920630090"
      },
      "execution_count": 3,
      "outputs": [
        {
          "output_type": "stream",
          "name": "stdout",
          "text": [
            "--2022-07-02 08:45:33--  http://ai.stanford.edu/~amaas/data/sentiment/aclImdb_v1.tar.gz\n",
            "Resolving ai.stanford.edu (ai.stanford.edu)... 171.64.68.10\n",
            "Connecting to ai.stanford.edu (ai.stanford.edu)|171.64.68.10|:80... connected.\n",
            "HTTP request sent, awaiting response... 200 OK\n",
            "Length: 84125825 (80M) [application/x-gzip]\n",
            "Saving to: ‘aclImdb_v1.tar.gz’\n",
            "\n",
            "aclImdb_v1.tar.gz   100%[===================>]  80.23M  60.2MB/s    in 1.3s    \n",
            "\n",
            "2022-07-02 08:45:34 (60.2 MB/s) - ‘aclImdb_v1.tar.gz’ saved [84125825/84125825]\n",
            "\n"
          ]
        }
      ]
    },
    {
      "cell_type": "code",
      "source": [
        "def rm_tags(text):\n",
        "  re_tag = re.compile(r'<[^>]+>')\n",
        "  return re_tag.sub('', text)"
      ],
      "metadata": {
        "id": "HRmH-uwtFH6e"
      },
      "execution_count": 4,
      "outputs": []
    },
    {
      "cell_type": "code",
      "source": [
        "def read_files(filetype):\n",
        "  path = \"/content/aclImdb/\"\n",
        "  file_list = []\n",
        "\n",
        "  positive_path = path + filetype + \"/pos/\"\n",
        "  for f in os.listdir(positive_path):\n",
        "    file_list += [positive_path+f]\n",
        "  \n",
        "  negative_path = path + filetype + \"/neg/\"\n",
        "  for f in os.listdir(negative_path):\n",
        "    file_list += [negative_path+f]\n",
        "  \n",
        "  print(\"read\", filetype, \"files:\", len(file_list))\n",
        "\n",
        "  all_labels = ([1] * 12500 + [0] * 12500)\n",
        "\n",
        "  all_texts = []\n",
        "  for fi in file_list:\n",
        "    with open(fi, encoding = 'utf8') as file_input:\n",
        "      all_texts += [rm_tags(\" \".join(file_input.readlines()))]\n",
        "  return all_labels, all_texts"
      ],
      "metadata": {
        "id": "i20bfzdIFKvO"
      },
      "execution_count": 5,
      "outputs": []
    },
    {
      "cell_type": "code",
      "source": [
        "y_train, train_text = read_files(\"train\")"
      ],
      "metadata": {
        "colab": {
          "base_uri": "https://localhost:8080/"
        },
        "id": "vJ1gYnmBFN4t",
        "outputId": "5d783a60-9e20-4020-9956-b0c6e9755af1"
      },
      "execution_count": 6,
      "outputs": [
        {
          "output_type": "stream",
          "name": "stdout",
          "text": [
            "read train files: 25000\n"
          ]
        }
      ]
    },
    {
      "cell_type": "code",
      "source": [
        "y_test, test_text = read_files(\"test\")"
      ],
      "metadata": {
        "colab": {
          "base_uri": "https://localhost:8080/"
        },
        "id": "Y5VdILSaFQFP",
        "outputId": "0e6713ad-5f5e-4390-e32f-0ea7a179adb5"
      },
      "execution_count": 7,
      "outputs": [
        {
          "output_type": "stream",
          "name": "stdout",
          "text": [
            "read test files: 25000\n"
          ]
        }
      ]
    },
    {
      "cell_type": "code",
      "source": [
        "train_text[0]"
      ],
      "metadata": {
        "colab": {
          "base_uri": "https://localhost:8080/",
          "height": 107
        },
        "id": "nwRoeG48FSRu",
        "outputId": "b7d73217-fffa-4d63-8d2a-062700998961"
      },
      "execution_count": 8,
      "outputs": [
        {
          "output_type": "execute_result",
          "data": {
            "text/plain": [
              "\"I saw this series when I was a kid and loved the detail it went into and never forgot it. I finally purchased the DVD collection and its just how I remembered. This is just how a doco should be, unbiased and factual. The film footage is unbelievable and the interviews are fantastic. The only other series that I have found equal to this is 'Die Deutschen Panzer'.I only wish Hollywood would sit down and watch this series, then they might make some great war movies.Note. Band of Brothers, Saving Private Ryan, Letters from Iwo Jima, Flags of Our Fathers and When Trumpets Fade are some I'd recommend\""
            ],
            "application/vnd.google.colaboratory.intrinsic+json": {
              "type": "string"
            }
          },
          "metadata": {},
          "execution_count": 8
        }
      ]
    },
    {
      "cell_type": "code",
      "source": [
        "y_train[0]"
      ],
      "metadata": {
        "colab": {
          "base_uri": "https://localhost:8080/"
        },
        "id": "a5YJ-lweFY6p",
        "outputId": "b6d41b6b-4267-4fa9-bb3b-0b77c94122e3"
      },
      "execution_count": 9,
      "outputs": [
        {
          "output_type": "execute_result",
          "data": {
            "text/plain": [
              "1"
            ]
          },
          "metadata": {},
          "execution_count": 9
        }
      ]
    },
    {
      "cell_type": "code",
      "source": [
        "train_text[20000]"
      ],
      "metadata": {
        "colab": {
          "base_uri": "https://localhost:8080/",
          "height": 159
        },
        "id": "zj9Z3KKmFaN3",
        "outputId": "66ec9601-f043-4cfc-f9f6-42f4790e5c49"
      },
      "execution_count": 10,
      "outputs": [
        {
          "output_type": "execute_result",
          "data": {
            "text/plain": [
              "'This is one of the most irritating, nonsensical movies I\\'ve ever had the misfortune to sit through. Every time it started to look like it might be getting good, out come more sepia tone flashbacks, followed by paranoid idiocy masquerading as social commentary. The main character, Maddox, is a manipulative, would-be rebel who lives in a mansion seemingly without any parents or responsibility. The supporting cast are all far more likeable and interesting, but are unfortunately never developed. Nor do we ever really understand the John Stanton character supposedly influencing Maddox to commit the acts of rebellion. At one point, I thought \"Aha! Maddox is just nuts and is secretly making up all those communications from escaped mental patient Stanton! Now we\\'re getting somewhere!\" but of course, that ends up to not be the case and the whole movie turns out to be pointless, both from Maddox\\'s perspective and the viewer\\'s. Where\\'s Ferris Bueller when we need him?'"
            ],
            "application/vnd.google.colaboratory.intrinsic+json": {
              "type": "string"
            }
          },
          "metadata": {},
          "execution_count": 10
        }
      ]
    },
    {
      "cell_type": "code",
      "source": [
        "y_train[20000]"
      ],
      "metadata": {
        "colab": {
          "base_uri": "https://localhost:8080/"
        },
        "id": "Z7hMa5P7Fbv-",
        "outputId": "d0313bf5-8f0a-42f0-c553-9f07e4b23eb1"
      },
      "execution_count": 12,
      "outputs": [
        {
          "output_type": "execute_result",
          "data": {
            "text/plain": [
              "0"
            ]
          },
          "metadata": {},
          "execution_count": 12
        }
      ]
    },
    {
      "cell_type": "code",
      "source": [
        "token = Tokenizer(num_words = 2000)\n",
        "token.fit_on_texts(train_text)"
      ],
      "metadata": {
        "id": "30n6YD7eGe4E"
      },
      "execution_count": 13,
      "outputs": []
    },
    {
      "cell_type": "code",
      "source": [
        "print(token.document_count)"
      ],
      "metadata": {
        "colab": {
          "base_uri": "https://localhost:8080/"
        },
        "id": "-fYhiGW6Ghx_",
        "outputId": "27264e0c-969c-4d8e-a7f1-a4fa3269d1d0"
      },
      "execution_count": 14,
      "outputs": [
        {
          "output_type": "stream",
          "name": "stdout",
          "text": [
            "25000\n"
          ]
        }
      ]
    },
    {
      "cell_type": "code",
      "source": [
        "x_train_seq = token.texts_to_sequences(train_text)\n",
        "x_test_seq = token.texts_to_sequences(test_text)"
      ],
      "metadata": {
        "id": "yU7r6rTxGqM2"
      },
      "execution_count": 16,
      "outputs": []
    },
    {
      "cell_type": "code",
      "source": [
        "print(train_text[0])"
      ],
      "metadata": {
        "colab": {
          "base_uri": "https://localhost:8080/"
        },
        "id": "ZAX_TVegGsnj",
        "outputId": "076ee809-9339-4b03-8200-9be1485fcc47"
      },
      "execution_count": 17,
      "outputs": [
        {
          "output_type": "stream",
          "name": "stdout",
          "text": [
            "I saw this series when I was a kid and loved the detail it went into and never forgot it. I finally purchased the DVD collection and its just how I remembered. This is just how a doco should be, unbiased and factual. The film footage is unbelievable and the interviews are fantastic. The only other series that I have found equal to this is 'Die Deutschen Panzer'.I only wish Hollywood would sit down and watch this series, then they might make some great war movies.Note. Band of Brothers, Saving Private Ryan, Letters from Iwo Jima, Flags of Our Fathers and When Trumpets Fade are some I'd recommend\n"
          ]
        }
      ]
    },
    {
      "cell_type": "code",
      "source": [
        "print(x_train_seq[0])"
      ],
      "metadata": {
        "colab": {
          "base_uri": "https://localhost:8080/"
        },
        "id": "1ahK6rpeGutu",
        "outputId": "eb619001-67ea-4fd4-99a3-70ff3815760d"
      },
      "execution_count": 18,
      "outputs": [
        {
          "output_type": "stream",
          "name": "stdout",
          "text": [
            "[9, 215, 10, 197, 50, 9, 12, 3, 549, 2, 442, 1, 1584, 8, 430, 79, 2, 111, 8, 9, 413, 1, 284, 1587, 2, 90, 39, 85, 9, 10, 6, 39, 85, 3, 140, 25, 2, 1, 18, 923, 6, 1295, 2, 1, 22, 772, 1, 60, 81, 197, 11, 9, 24, 254, 5, 10, 6, 9, 60, 653, 358, 58, 864, 176, 2, 102, 10, 197, 91, 32, 234, 93, 45, 83, 321, 98, 849, 1135, 4, 1087, 1896, 1947, 35, 4, 259, 2, 50, 22, 45, 470, 382]\n"
          ]
        }
      ]
    },
    {
      "cell_type": "code",
      "source": [
        "x_train = sequence.pad_sequences(x_train_seq, maxlen = 200)\n",
        "x_test = sequence.pad_sequences(x_test_seq, maxlen = 200)"
      ],
      "metadata": {
        "id": "7UvTT7XVGzX4"
      },
      "execution_count": 19,
      "outputs": []
    },
    {
      "cell_type": "code",
      "source": [
        "print('length before processing = ', len(x_train_seq[5]))\n",
        "print(x_train_seq[5])"
      ],
      "metadata": {
        "colab": {
          "base_uri": "https://localhost:8080/"
        },
        "id": "bL7CjUX-G2qY",
        "outputId": "6489af6c-abbf-4c10-f75c-fe55ebc2fcbc"
      },
      "execution_count": 20,
      "outputs": [
        {
          "output_type": "stream",
          "name": "stdout",
          "text": [
            "length before processing =  95\n",
            "[203, 206, 73, 3, 190, 333, 122, 233, 9, 215, 37, 197, 3, 167, 149, 591, 10, 18, 431, 283, 37, 7, 37, 114, 633, 242, 1, 18, 12, 34, 1660, 173, 2, 252, 171, 146, 2, 170, 55, 113, 1134, 407, 39, 5, 93, 10, 18, 27, 4, 1, 114, 203, 122, 106, 1458, 62, 42, 123, 528, 257, 665, 1787, 2, 32, 62, 89, 1, 18, 212, 278, 77, 9, 442, 1, 113, 223, 117, 1974, 37, 2, 55, 750, 1438, 50, 55, 729, 5, 1, 1863, 10, 6, 18, 29, 90, 114]\n"
          ]
        }
      ]
    },
    {
      "cell_type": "code",
      "source": [
        "print('length after processing = ', len(x_train[5]))\n",
        "print(x_train[5])"
      ],
      "metadata": {
        "colab": {
          "base_uri": "https://localhost:8080/"
        },
        "id": "4bYcCM2AG5kg",
        "outputId": "ecf42743-c054-4577-9495-8b0e94bc9e47"
      },
      "execution_count": 21,
      "outputs": [
        {
          "output_type": "stream",
          "name": "stdout",
          "text": [
            "length after processing =  200\n",
            "[   0    0    0    0    0    0    0    0    0    0    0    0    0    0\n",
            "    0    0    0    0    0    0    0    0    0    0    0    0    0    0\n",
            "    0    0    0    0    0    0    0    0    0    0    0    0    0    0\n",
            "    0    0    0    0    0    0    0    0    0    0    0    0    0    0\n",
            "    0    0    0    0    0    0    0    0    0    0    0    0    0    0\n",
            "    0    0    0    0    0    0    0    0    0    0    0    0    0    0\n",
            "    0    0    0    0    0    0    0    0    0    0    0    0    0    0\n",
            "    0    0    0    0    0    0    0  203  206   73    3  190  333  122\n",
            "  233    9  215   37  197    3  167  149  591   10   18  431  283   37\n",
            "    7   37  114  633  242    1   18   12   34 1660  173    2  252  171\n",
            "  146    2  170   55  113 1134  407   39    5   93   10   18   27    4\n",
            "    1  114  203  122  106 1458   62   42  123  528  257  665 1787    2\n",
            "   32   62   89    1   18  212  278   77    9  442    1  113  223  117\n",
            " 1974   37    2   55  750 1438   50   55  729    5    1 1863   10    6\n",
            "   18   29   90  114]\n"
          ]
        }
      ]
    },
    {
      "cell_type": "code",
      "source": [
        "model = Sequential()"
      ],
      "metadata": {
        "id": "SFAA157UJl1d"
      },
      "execution_count": 22,
      "outputs": []
    },
    {
      "cell_type": "code",
      "source": [
        "model.add(Embedding(output_dim = 32,\n",
        "                    input_dim = 2000,\n",
        "                    input_length = 200))"
      ],
      "metadata": {
        "colab": {
          "base_uri": "https://localhost:8080/"
        },
        "id": "duZQFTGXJolz",
        "outputId": "ecda6373-6831-4ba2-fbee-3f43b147a44a"
      },
      "execution_count": 23,
      "outputs": [
        {
          "output_type": "stream",
          "name": "stdout",
          "text": [
            "WARNING:tensorflow:From /tensorflow-1.15.2/python3.7/tensorflow_core/python/ops/resource_variable_ops.py:1630: calling BaseResourceVariable.__init__ (from tensorflow.python.ops.resource_variable_ops) with constraint is deprecated and will be removed in a future version.\n",
            "Instructions for updating:\n",
            "If using Keras pass *_constraint arguments to layers.\n"
          ]
        }
      ]
    },
    {
      "cell_type": "code",
      "source": [
        "model.add(Flatten())"
      ],
      "metadata": {
        "id": "qm5u-xllJrns"
      },
      "execution_count": 24,
      "outputs": []
    },
    {
      "cell_type": "code",
      "source": [
        "model.add(Dense(units = 256, \n",
        "                activation = 'relu'))"
      ],
      "metadata": {
        "id": "JYT-QpgBJtaN"
      },
      "execution_count": 25,
      "outputs": []
    },
    {
      "cell_type": "code",
      "source": [
        "model.add(Dense(units = 1, \n",
        "                activation = 'sigmoid'))"
      ],
      "metadata": {
        "id": "CFXfLl-DJvMJ"
      },
      "execution_count": 26,
      "outputs": []
    },
    {
      "cell_type": "code",
      "source": [
        "model.summary()"
      ],
      "metadata": {
        "colab": {
          "base_uri": "https://localhost:8080/"
        },
        "id": "UcjGUM8_Jw2C",
        "outputId": "d05dcd2d-67ae-436c-e346-1b98395aa2dd"
      },
      "execution_count": 27,
      "outputs": [
        {
          "output_type": "stream",
          "name": "stdout",
          "text": [
            "Model: \"sequential_1\"\n",
            "_________________________________________________________________\n",
            "Layer (type)                 Output Shape              Param #   \n",
            "=================================================================\n",
            "embedding_1 (Embedding)      (None, 200, 32)           64000     \n",
            "_________________________________________________________________\n",
            "flatten_1 (Flatten)          (None, 6400)              0         \n",
            "_________________________________________________________________\n",
            "dense_1 (Dense)              (None, 256)               1638656   \n",
            "_________________________________________________________________\n",
            "dense_2 (Dense)              (None, 1)                 257       \n",
            "=================================================================\n",
            "Total params: 1,702,913\n",
            "Trainable params: 1,702,913\n",
            "Non-trainable params: 0\n",
            "_________________________________________________________________\n"
          ]
        }
      ]
    },
    {
      "cell_type": "code",
      "source": [
        "model.compile(loss = 'binary_crossentropy',\n",
        "              optimizer = 'adam',\n",
        "              metrics = ['accuracy'])"
      ],
      "metadata": {
        "colab": {
          "base_uri": "https://localhost:8080/"
        },
        "id": "8r60RPY7J29s",
        "outputId": "fe49b986-4ad0-4632-89ce-1e779f8dfec4"
      },
      "execution_count": 28,
      "outputs": [
        {
          "output_type": "stream",
          "name": "stdout",
          "text": [
            "WARNING:tensorflow:From /tensorflow-1.15.2/python3.7/tensorflow_core/python/ops/nn_impl.py:183: where (from tensorflow.python.ops.array_ops) is deprecated and will be removed in a future version.\n",
            "Instructions for updating:\n",
            "Use tf.where in 2.0, which has the same broadcast rule as np.where\n"
          ]
        }
      ]
    },
    {
      "cell_type": "code",
      "source": [
        "train_history = model.fit(x_train, y_train, batch_size = 100, epochs = 10, verbose = 0, validation_split = 0.2)"
      ],
      "metadata": {
        "colab": {
          "base_uri": "https://localhost:8080/"
        },
        "id": "V91Voj45J3ez",
        "outputId": "cdcc12eb-19ad-415f-c88d-a78fd9a9065a"
      },
      "execution_count": 29,
      "outputs": [
        {
          "output_type": "stream",
          "name": "stdout",
          "text": [
            "WARNING:tensorflow:From /tensorflow-1.15.2/python3.7/keras/backend/tensorflow_backend.py:422: The name tf.global_variables is deprecated. Please use tf.compat.v1.global_variables instead.\n",
            "\n"
          ]
        }
      ]
    },
    {
      "cell_type": "code",
      "source": [
        "scores = model.evaluate(x_test, y_test, verbose=1)"
      ],
      "metadata": {
        "colab": {
          "base_uri": "https://localhost:8080/"
        },
        "id": "MM-Q5iBwJ5lr",
        "outputId": "98a49985-93f0-413e-ad85-8cdaa8bfd5b0"
      },
      "execution_count": 30,
      "outputs": [
        {
          "output_type": "stream",
          "name": "stdout",
          "text": [
            "25000/25000 [==============================] - 1s 45us/step\n"
          ]
        }
      ]
    },
    {
      "cell_type": "code",
      "source": [
        "scores[1]"
      ],
      "metadata": {
        "colab": {
          "base_uri": "https://localhost:8080/"
        },
        "id": "r1J_k2hkJ7N6",
        "outputId": "feb59a6a-4422-4988-cc7b-7a9a403d0b08"
      },
      "execution_count": 31,
      "outputs": [
        {
          "output_type": "execute_result",
          "data": {
            "text/plain": [
              "0.8363199830055237"
            ]
          },
          "metadata": {},
          "execution_count": 31
        }
      ]
    }
  ]
}